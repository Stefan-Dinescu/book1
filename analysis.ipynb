{
  "cells": [
    {
      "cell_type": "markdown",
      "metadata": {},
      "source": [
        "# Analysis\n",
        "\n",
        "```{r1}\n",
        "#| echo: false\n",
        "df=data.frame(letter=c(\"A\",\"B\",\"C\",\"D\"), number=c(1,2,3,4))\n",
        "```\n",
        "\n",
        "these are the first rows:\n",
        "\n",
        "```{r2}\n",
        "#| echo: true\n",
        "head(df)\n",
        "```\n",
        "\n",
        "add 2 plus 2\n",
        "```{r3}\n",
        "#| echo: false\n",
        "2+2\n",
        "```"
      ],
      "id": "1fe05fe5"
    }
  ],
  "metadata": {
    "kernelspec": {
      "display_name": "Python 3",
      "language": "python",
      "name": "python3"
    }
  },
  "nbformat": 4,
  "nbformat_minor": 5
}
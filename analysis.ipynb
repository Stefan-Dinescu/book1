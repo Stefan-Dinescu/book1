{
  "cells": [
    {
      "cell_type": "markdown",
      "metadata": {},
      "source": [
        "# Analysis\n",
        "\n",
        "```{r1}\n",
        "#| echo: false\n",
        "df=data.frame(letter=c(\"A\",\"B\",\"C\",\"D\"), number=c(1,2,3,4))\n",
        "```\n",
        "\n",
        "these are the first rows:\n",
        "\n",
        "```{r2}\n",
        "#| echo: true\n",
        "head(iris)\n",
        "```\n",
        "\n",
        "add 2 plus 2\n",
        "```{r3}\n",
        "#| echo: false\n",
        "2+2\n",
        "```\n",
        "\n",
        "2 plus 2 equals '{r} 2+2'"
      ],
      "id": "8cdda79e"
    }
  ],
  "metadata": {
    "kernelspec": {
      "display_name": "Python 3",
      "language": "python",
      "name": "python3"
    }
  },
  "nbformat": 4,
  "nbformat_minor": 5
}